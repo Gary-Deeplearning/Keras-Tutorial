{
 "cells": [
  {
   "cell_type": "code",
   "execution_count": 69,
   "metadata": {
    "collapsed": true
   },
   "outputs": [],
   "source": [
    "import numpy as np\n",
    "import random\n",
    "\n",
    "import keras.backend as K\n",
    "from keras.datasets import mnist\n",
    "from keras.models import Sequential, Model\n",
    "from keras.layers import Input, Dense, Dropout, Lambda, Conv2D, MaxPooling2D\n",
    "from keras.optimizers import RMSprop\n",
    "from keras.callbacks import TensorBoard\n",
    "from sklearn.model_selection import train_test_split"
   ]
  },
  {
   "cell_type": "markdown",
   "metadata": {},
   "source": [
    "## Load the dataset"
   ]
  },
  {
   "cell_type": "code",
   "execution_count": 33,
   "metadata": {
    "collapsed": true
   },
   "outputs": [],
   "source": [
    "(X_train, y_train), (X_test, y_test) = mnist.load_data()"
   ]
  },
  {
   "cell_type": "code",
   "execution_count": 34,
   "metadata": {
    "collapsed": true
   },
   "outputs": [],
   "source": [
    "X_train = X_train.reshape(60000, 784)\n",
    "X_test = X_test.reshape(10000, 784)\n",
    "X_train = X_train.astype(\"float32\")\n",
    "X_test = X_test.astype(\"float32\")\n",
    "X_train /= 255.\n",
    "X_test /= 255."
   ]
  },
  {
   "cell_type": "code",
   "execution_count": 57,
   "metadata": {
    "collapsed": false
   },
   "outputs": [
    {
     "name": "stdout",
     "output_type": "stream",
     "text": [
      "Input_Shape:  784\n"
     ]
    }
   ],
   "source": [
    "input_shape = X_train.shape[1:][0]\n",
    "print(\"Input_Shape: \", input_shape)"
   ]
  },
  {
   "cell_type": "code",
   "execution_count": 36,
   "metadata": {
    "collapsed": true
   },
   "outputs": [],
   "source": [
    "num_classes = 10   # 类别总数"
   ]
  },
  {
   "cell_type": "markdown",
   "metadata": {},
   "source": [
    "### 创建正样本positive samples和负样本negative samples"
   ]
  },
  {
   "cell_type": "code",
   "execution_count": 41,
   "metadata": {
    "collapsed": true
   },
   "outputs": [],
   "source": [
    "# 即从0-9，digit_indices[0]里全部数字0的正样本的下标，digit_indices[1]里则全为数字1的正样本的下标，后面的以此类推\n",
    "digit_indices_train = [np.where(y_train == i)[0] for i in range(num_classes)]\n",
    "digit_indices_test = [np.where(y_test == i)[0] for i in range(num_classes)]"
   ]
  },
  {
   "cell_type": "code",
   "execution_count": 42,
   "metadata": {
    "collapsed": false
   },
   "outputs": [
    {
     "data": {
      "text/plain": [
       "[array([    1,    21,    34, ..., 59952, 59972, 59987], dtype=int64),\n",
       " array([    3,     6,     8, ..., 59979, 59984, 59994], dtype=int64),\n",
       " array([    5,    16,    25, ..., 59983, 59985, 59991], dtype=int64),\n",
       " array([    7,    10,    12, ..., 59978, 59980, 59996], dtype=int64),\n",
       " array([    2,     9,    20, ..., 59943, 59951, 59975], dtype=int64),\n",
       " array([    0,    11,    35, ..., 59968, 59993, 59997], dtype=int64),\n",
       " array([   13,    18,    32, ..., 59982, 59986, 59998], dtype=int64),\n",
       " array([   15,    29,    38, ..., 59963, 59977, 59988], dtype=int64),\n",
       " array([   17,    31,    41, ..., 59989, 59995, 59999], dtype=int64),\n",
       " array([    4,    19,    22, ..., 59973, 59990, 59992], dtype=int64)]"
      ]
     },
     "execution_count": 42,
     "metadata": {},
     "output_type": "execute_result"
    }
   ],
   "source": [
    "digit_indices_train"
   ]
  },
  {
   "cell_type": "code",
   "execution_count": 51,
   "metadata": {
    "collapsed": true
   },
   "outputs": [],
   "source": [
    "# 因为网络是一对样本作为输入的，可以为一堆正样本，或一对负样本\n",
    "def create_pairs(x, digit_indices):\n",
    "    pairs = []   # 用于存储每一对样本\n",
    "    labels = []  # 用于表示是否为正样本或负样本，1为相同类别，0为不同类别\n",
    "    \n",
    "    n = min([len(digit_indices[d]) for d in range(10)]) - 1  # 用于获取类别中最少正样本的数目，以保证数据均衡\n",
    "    \n",
    "    for d in range(num_classes):\n",
    "        for i in range(n):\n",
    "            # 正样本的下标\n",
    "            p1, p2 = digit_indices[d][i], digit_indices[d][i+1]\n",
    "            pairs += [[x[p1], x[p2]]]\n",
    "            # 产生1-9的随机整数，即选择负样本\n",
    "            inc = random.randrange(1, 10)\n",
    "            # 防止获取到同一类的数据\n",
    "            dn = (d + inc) % 10\n",
    "            n1, n2 = digit_indices[d][i], digit_indices[dn][i]\n",
    "            pairs += [[x[n1], x[n2]]]\n",
    "            labels += [1, 0]\n",
    "    return np.array(pairs), np.array(labels)"
   ]
  },
  {
   "cell_type": "code",
   "execution_count": 52,
   "metadata": {
    "collapsed": false
   },
   "outputs": [],
   "source": [
    "# 生成pairs\n",
    "tr_pairs, tr_y = create_pairs(X_train, digit_indices_train)\n",
    "te_pairs, te_y = create_pairs(X_test, digit_indices_test)"
   ]
  },
  {
   "cell_type": "code",
   "execution_count": 54,
   "metadata": {
    "collapsed": false
   },
   "outputs": [
    {
     "name": "stdout",
     "output_type": "stream",
     "text": [
      "trainSet shape:  (108400, 2, 784)\n",
      "traingLabel shape:  (108400,)\n",
      "testSet shape:  (17820, 2, 784)\n",
      "testLabel shape:  (17820,)\n"
     ]
    }
   ],
   "source": [
    "# check, 每一个样本都包括了两个图像，\n",
    "print(\"trainSet shape: \", tr_pairs.shape)\n",
    "print(\"traingLabel shape: \", tr_y.shape)\n",
    "print(\"testSet shape: \", te_pairs.shape)\n",
    "print(\"testLabel shape: \", te_y.shape)"
   ]
  },
  {
   "cell_type": "markdown",
   "metadata": {},
   "source": [
    "## Build the model"
   ]
  },
  {
   "cell_type": "code",
   "execution_count": 61,
   "metadata": {
    "collapsed": true
   },
   "outputs": [],
   "source": [
    "# 基础模型\n",
    "def create_base_network(input_shape):\n",
    "    model = Sequential()\n",
    "    model.add(Dense(units=128, input_shape=(input_shape, ), activation='relu'))\n",
    "    model.add(Dropout(rate=0.5))\n",
    "    model.add(Dense(units=128, activation='relu'))\n",
    "    model.add(Dropout(rate=0.5))\n",
    "    model.add(Dense(units=128, activation='relu'))\n",
    "    \n",
    "    return model"
   ]
  },
  {
   "cell_type": "code",
   "execution_count": 62,
   "metadata": {
    "collapsed": false
   },
   "outputs": [],
   "source": [
    "base_network = create_base_network(input_shape)"
   ]
  },
  {
   "cell_type": "code",
   "execution_count": 66,
   "metadata": {
    "collapsed": true
   },
   "outputs": [],
   "source": [
    "# 因为模型是以两个张量作为输入，然后将它们连接在以上的base_network，再输出一个结果\n",
    "input_a = Input(shape=(input_shape, ))\n",
    "input_b = Input(shape=(input_shape, ))\n",
    "\n",
    "# 获取经过模型后的输出\n",
    "processed_a = base_network(input_a)  \n",
    "processed_b = base_network(input_b)"
   ]
  },
  {
   "cell_type": "code",
   "execution_count": 67,
   "metadata": {
    "collapsed": true
   },
   "outputs": [],
   "source": [
    "# 计算欧式距离\n",
    "def euclidean_distance(vects):\n",
    "    v1, v2 = vects\n",
    "    return K.sqrt(K.sum(K.square(v1 -v2), axis=1, keepdims=True))\n",
    "\n",
    "def eucl_dist_output_shape(shapes):\n",
    "    # 在这里我们需要求修改output_shape, 为(batch, 1)\n",
    "    shape1, shape2 = shapes\n",
    "    return (shape1[0], 1)"
   ]
  },
  {
   "cell_type": "code",
   "execution_count": 68,
   "metadata": {
    "collapsed": true
   },
   "outputs": [],
   "source": [
    "# 这里在创建一个Lambda层,用于计算base_network输出的两个特征的欧氏距离，并且不含有可训练参数的计算要求\n",
    "distance = Lambda(function=euclidean_distance, output_shape=eucl_dist_output_shape)([processed_a, processed_b])"
   ]
  },
  {
   "cell_type": "code",
   "execution_count": 70,
   "metadata": {
    "collapsed": true
   },
   "outputs": [],
   "source": [
    "model = Model(inputs=[input_a, input_b], outputs=distance)"
   ]
  },
  {
   "cell_type": "code",
   "execution_count": 71,
   "metadata": {
    "collapsed": false
   },
   "outputs": [
    {
     "name": "stdout",
     "output_type": "stream",
     "text": [
      "__________________________________________________________________________________________________\n",
      "Layer (type)                    Output Shape         Param #     Connected to                     \n",
      "==================================================================================================\n",
      "input_3 (InputLayer)            (None, 784)          0                                            \n",
      "__________________________________________________________________________________________________\n",
      "input_4 (InputLayer)            (None, 784)          0                                            \n",
      "__________________________________________________________________________________________________\n",
      "sequential_4 (Sequential)       (None, 128)          133504      input_3[0][0]                    \n",
      "                                                                 input_4[0][0]                    \n",
      "__________________________________________________________________________________________________\n",
      "lambda_1 (Lambda)               (None, 1)            0           sequential_4[2][0]               \n",
      "                                                                 sequential_4[3][0]               \n",
      "==================================================================================================\n",
      "Total params: 133,504\n",
      "Trainable params: 133,504\n",
      "Non-trainable params: 0\n",
      "__________________________________________________________________________________________________\n"
     ]
    }
   ],
   "source": [
    "model.summary()"
   ]
  },
  {
   "cell_type": "markdown",
   "metadata": {},
   "source": [
    "contrative_loss: <br>\n",
    "D表示欧式距离<br>\n",
    "$ L(F_1,F_2,Y)=\\frac{1}{2} \\sum{y_iD(F_1,F_2)^2+(1-y_i)max\\{0,m-D(F_1,F_2)\\}^2} $"
   ]
  },
  {
   "cell_type": "code",
   "execution_count": 72,
   "metadata": {
    "collapsed": true
   },
   "outputs": [],
   "source": [
    "# 创建contrastive_loss\n",
    "def contrastive_loss(y_true, y_pred):\n",
    "    margin = 1\n",
    "    square_pred = K.square(y_pred)\n",
    "    margin_square = K.square(K.maximum(margin - y_pred, 0))\n",
    "    return K.mean(y_true * square_pred + (1 - y_true) * margin_square)"
   ]
  },
  {
   "cell_type": "code",
   "execution_count": 73,
   "metadata": {
    "collapsed": true
   },
   "outputs": [],
   "source": [
    "def compute_accuracy(y_true, y_pred):\n",
    "    # 以0.5为阈值\n",
    "    pred = y_pred.ravel() < 0.5\n",
    "    return np.mean(pred == y_true)"
   ]
  },
  {
   "cell_type": "code",
   "execution_count": 74,
   "metadata": {
    "collapsed": true
   },
   "outputs": [],
   "source": [
    "def accuracy(y_true, y_pred):\n",
    "    return K.mean(K.equal(y_true, K.cast(y_pred < 0.5, y_true.dtype)))"
   ]
  },
  {
   "cell_type": "code",
   "execution_count": 75,
   "metadata": {
    "collapsed": true
   },
   "outputs": [],
   "source": [
    "rmsprop = RMSprop()\n",
    "model.compile(optimizer=rmsprop, loss=contrastive_loss, metrics=[accuracy])"
   ]
  },
  {
   "cell_type": "code",
   "execution_count": 78,
   "metadata": {
    "collapsed": true
   },
   "outputs": [
    {
     "name": "stdout",
     "output_type": "stream",
     "text": [
      "Epoch 1/20\n",
      "108400/108400 [==============================] - 8s 78us/step - loss: 0.1023 - accuracy: 0.8760\n",
      "Epoch 2/20\n",
      "108400/108400 [==============================] - 10s 94us/step - loss: 0.0915 - accuracy: 0.8888\n",
      "Epoch 3/20\n",
      "108400/108400 [==============================] - 9s 86us/step - loss: 0.0828 - accuracy: 0.9013\n",
      "Epoch 4/20\n",
      "108400/108400 [==============================] - 9s 83us/step - loss: 0.0782 - accuracy: 0.9100\n",
      "Epoch 5/20\n",
      "108400/108400 [==============================] - 9s 80us/step - loss: 0.0748 - accuracy: 0.9139\n",
      "Epoch 6/20\n",
      "108400/108400 [==============================] - 9s 85us/step - loss: 0.0725 - accuracy: 0.9168\n",
      "Epoch 7/20\n",
      "108400/108400 [==============================] - 9s 84us/step - loss: 0.0713 - accuracy: 0.9181\n",
      "Epoch 8/20\n",
      "108400/108400 [==============================] - 9s 80us/step - loss: 0.0696 - accuracy: 0.9206\n",
      "Epoch 9/20\n",
      "108400/108400 [==============================] - 7s 68us/step - loss: 0.0681 - accuracy: 0.9229\n",
      "Epoch 10/20\n",
      "108400/108400 [==============================] - 8s 77us/step - loss: 0.0681 - accuracy: 0.9230\n",
      "Epoch 11/20\n",
      "108400/108400 [==============================] - 9s 80us/step - loss: 0.0668 - accuracy: 0.9247\n",
      "Epoch 12/20\n",
      "108400/108400 [==============================] - 8s 71us/step - loss: 0.0672 - accuracy: 0.9235\n",
      "Epoch 13/20\n",
      "108400/108400 [==============================] - 8s 75us/step - loss: 0.0662 - accuracy: 0.9243\n",
      "Epoch 14/20\n",
      "108400/108400 [==============================] - 8s 77us/step - loss: 0.0656 - accuracy: 0.9254\n",
      "Epoch 15/20\n",
      "108400/108400 [==============================] - 9s 79us/step - loss: 0.0647 - accuracy: 0.9267\n",
      "Epoch 16/20\n",
      "108400/108400 [==============================] - 9s 84us/step - loss: 0.0648 - accuracy: 0.9263\n",
      "Epoch 17/20\n",
      "108400/108400 [==============================] - 8s 75us/step - loss: 0.0641 - accuracy: 0.9268\n",
      "Epoch 18/20\n",
      "108400/108400 [==============================] - 8s 77us/step - loss: 0.0644 - accuracy: 0.9268\n",
      "Epoch 19/20\n",
      "108400/108400 [==============================] - 9s 80us/step - loss: 0.0644 - accuracy: 0.9270\n",
      "Epoch 20/20\n",
      "108400/108400 [==============================] - 8s 76us/step - loss: 0.0632 - accuracy: 0.9281\n"
     ]
    },
    {
     "data": {
      "text/plain": [
       "<keras.callbacks.History at 0x1e173bcbe48>"
      ]
     },
     "execution_count": 78,
     "metadata": {},
     "output_type": "execute_result"
    }
   ],
   "source": [
    "model.fit(x=[tr_pairs[:, 0], tr_pairs[:, 1]], y=tr_y, batch_size=128, epochs=20)"
   ]
  },
  {
   "cell_type": "code",
   "execution_count": 79,
   "metadata": {
    "collapsed": true
   },
   "outputs": [],
   "source": [
    "y_pred = model.predict([te_pairs[:, 0], te_pairs[:, 1]])"
   ]
  },
  {
   "cell_type": "code",
   "execution_count": 82,
   "metadata": {
    "collapsed": false
   },
   "outputs": [],
   "source": [
    "te_acc = compute_accuracy(te_y, y_pred)"
   ]
  },
  {
   "cell_type": "code",
   "execution_count": 84,
   "metadata": {
    "collapsed": false
   },
   "outputs": [
    {
     "name": "stdout",
     "output_type": "stream",
     "text": [
      "* Accuracy on test set: 94.17%\n"
     ]
    }
   ],
   "source": [
    "print('* Accuracy on test set: %0.2f%%' % (100 * te_acc))"
   ]
  },
  {
   "cell_type": "code",
   "execution_count": null,
   "metadata": {
    "collapsed": true
   },
   "outputs": [],
   "source": []
  }
 ],
 "metadata": {
  "anaconda-cloud": {},
  "kernelspec": {
   "display_name": "Python [conda root]",
   "language": "python",
   "name": "conda-root-py"
  },
  "language_info": {
   "codemirror_mode": {
    "name": "ipython",
    "version": 3
   },
   "file_extension": ".py",
   "mimetype": "text/x-python",
   "name": "python",
   "nbconvert_exporter": "python",
   "pygments_lexer": "ipython3",
   "version": "3.5.2"
  }
 },
 "nbformat": 4,
 "nbformat_minor": 2
}
