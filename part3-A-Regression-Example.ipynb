{
 "cells": [
  {
   "cell_type": "markdown",
   "metadata": {},
   "source": [
    "# 使用Keras建立回归模型\n",
    "上两讲中，我们都是进行分类任务。<br>\n",
    "这一讲中，我们使用神经网络建立一个回归模型进行房价预测。<br>"
   ]
  },
  {
   "cell_type": "markdown",
   "metadata": {},
   "source": [
    "## 数据集介绍\n",
    "这一讲中，使用的是Boston房价数据集，该数据集讲述的是1970的中期阶段的房价。<br>\n",
    "总共包含506个样本（404个训练样本，102个测试样本）"
   ]
  },
  {
   "cell_type": "code",
   "execution_count": 2,
   "metadata": {
    "collapsed": false
   },
   "outputs": [],
   "source": [
    "import numpy as np\n",
    "import matplotlib.pyplot as plt\n",
    "\n",
    "from keras.datasets import boston_housing\n",
    "from keras.models import Sequential\n",
    "from keras.layers import Dense"
   ]
  },
  {
   "cell_type": "code",
   "execution_count": 3,
   "metadata": {
    "collapsed": false
   },
   "outputs": [
    {
     "name": "stdout",
     "output_type": "stream",
     "text": [
      "Downloading data from https://s3.amazonaws.com/keras-datasets/boston_housing.npz\n",
      "57344/57026 [==============================] - 1s 12us/step\n"
     ]
    }
   ],
   "source": [
    "# 导入数据集\n",
    "(train_data, train_targets), (test_data, test_targets) = boston_housing.load_data()"
   ]
  },
  {
   "cell_type": "code",
   "execution_count": 4,
   "metadata": {
    "collapsed": false
   },
   "outputs": [
    {
     "name": "stdout",
     "output_type": "stream",
     "text": [
      "The shape of train_data:  (404, 13)\n",
      "The shape of train_targets:  (404,)\n",
      "The shape of test_data:  (102, 13)\n",
      "The shape of test_targets:  (102,)\n"
     ]
    }
   ],
   "source": [
    "# 查看数据集shape\n",
    "print(\"The shape of train_data: \", train_data.shape)\n",
    "print(\"The shape of train_targets: \", train_targets.shape)\n",
    "print(\"The shape of test_data: \", test_data.shape)\n",
    "print(\"The shape of test_targets: \", test_targets.shape)"
   ]
  },
  {
   "cell_type": "markdown",
   "metadata": {},
   "source": [
    "从以上的shape中，可以看到，每个样本都是又13个特征组成的，例如犯罪率等这些特征。<br>\n",
    "而target则是一个值，一个连续值。"
   ]
  },
  {
   "cell_type": "code",
   "execution_count": 5,
   "metadata": {
    "collapsed": false
   },
   "outputs": [
    {
     "name": "stdout",
     "output_type": "stream",
     "text": [
      "The train_data[0]:  [  1.23247   0.        8.14      0.        0.538     6.142    91.7\n",
      "   3.9769    4.      307.       21.      396.9      18.72   ]\n",
      "The train_targets[0]:  15.2\n"
     ]
    }
   ],
   "source": [
    "# 查看每个样本的值\n",
    "print(\"The train_data[0]: \", train_data[0])\n",
    "print(\"The train_targets[0]: \", train_targets[0])"
   ]
  },
  {
   "cell_type": "markdown",
   "metadata": {},
   "source": [
    "## 数据预处理\n",
    "由于每个特征的量纲不同(即取值范围不同)，例如，犯罪率(0.0-1.0)，平均房间数量(>1)。<br>\n",
    "将不同量纲的特征一起input到同一个神经网络中进行训练，会使得训练变难，所以我们需要进行数据标准化（不了解标准化的，可以回头看看我之前写的特征工程系列）。<br>\n",
    "当然，你也可以选择不进行数据标准化，但这不是明智的选择。"
   ]
  },
  {
   "cell_type": "code",
   "execution_count": 6,
   "metadata": {
    "collapsed": false
   },
   "outputs": [
    {
     "name": "stdout",
     "output_type": "stream",
     "text": [
      "The mean of features:  [3.74511057e+00 1.14801980e+01 1.11044307e+01 6.18811881e-02\n",
      " 5.57355941e-01 6.26708168e+00 6.90106436e+01 3.74027079e+00\n",
      " 9.44059406e+00 4.05898515e+02 1.84759901e+01 3.54783168e+02\n",
      " 1.27408168e+01]\n",
      "The std of features： [9.22929073e+00 2.37382770e+01 6.80287253e+00 2.40939633e-01\n",
      " 1.17147847e-01 7.08908627e-01 2.79060634e+01 2.02770050e+00\n",
      " 8.68758849e+00 1.66168506e+02 2.19765689e+00 9.39946015e+01\n",
      " 7.24556085e+00]\n"
     ]
    }
   ],
   "source": [
    "# 获取平均值\n",
    "mean = train_data.mean(axis=0)\n",
    "print(\"The mean of features: \", mean)\n",
    "train_data -= mean\n",
    "# 获取标准差\n",
    "std = train_data.std(axis=0)\n",
    "print(\"The std of features：\", std)\n",
    "train_data /= std\n",
    "\n",
    "# 当然，测试机也要进行同样的操作\n",
    "test_data -= mean\n",
    "test_data /= std"
   ]
  },
  {
   "cell_type": "markdown",
   "metadata": {},
   "source": [
    "## 建立模型"
   ]
  },
  {
   "cell_type": "code",
   "execution_count": 12,
   "metadata": {
    "collapsed": true
   },
   "outputs": [],
   "source": [
    "def bulid_network(optimizer='rmsprop', loss='mse', metrics='mae'):\n",
    "    # build\n",
    "    # 由于数据集的规模比较小，所以我们尽量使用比较浅的模型，比较深的模型对于小数据集来说容易过拟合\n",
    "    model = Sequential()\n",
    "    model.add(Dense(units=64, activation='relu', input_shape=(train_data.shape[1], )))\n",
    "    model.add(Dense(units=64, activation='relu',))\n",
    "    model.add(Dense(units=1))\n",
    "    \n",
    "    # compile\n",
    "    # 这里使用mean square loss的loss function，因为这是个回归模型，而mse是回归模型中使用比较多的loss function\n",
    "    # 表示真实值与预测值的残差平方和\n",
    "    # metrics监控使用mean absolute error,平均绝对误差，和mse只是相差一个平方\n",
    "    model.compile(optimizer=optimizer, loss=loss, metrics=[metrics])\n",
    "    \n",
    "    return model"
   ]
  },
  {
   "cell_type": "markdown",
   "metadata": {},
   "source": [
    "## K-fold cross validation\n",
    "**这里我们使用k-折叠交叉验证。**<br>\n",
    "* 由于我们的数据是一个小数据集，如果我们按照7：3的比例进行划分训练集和验证集，则验证机也只是几十个样本左右。<br>\n",
    "* 因为验证机的规模更小，很难全面包括整个数据集的真实分布，而模型的评价也要依靠验证集的评分，会造成很高的variance。\n",
    "* 我们将训练集和划分为K份，然后进行1-k次的模型迭代，选择k-1份的作为训练集，剩余的为测试集，如图示：<br>\n",
    "![title](images/k-fold.JPG)\n",
    "* 然后分数为每次的验证分数的平均值。\n",
    "* 通过k次的交叉验证，可以很大的掌握数据集的分布。"
   ]
  },
  {
   "cell_type": "code",
   "execution_count": 10,
   "metadata": {
    "collapsed": true
   },
   "outputs": [],
   "source": [
    "# 我们使用numpy来进行划分\n",
    "# 划为k份\n",
    "k = 4\n",
    "# val_set的的样本数目\n",
    "num_val_samples = len(train_data) // k\n",
    "epochs = 100\n",
    "all_scores = []   # 用于保存k次validation的score"
   ]
  },
  {
   "cell_type": "code",
   "execution_count": 13,
   "metadata": {
    "collapsed": false
   },
   "outputs": [
    {
     "name": "stdout",
     "output_type": "stream",
     "text": [
      "processing_fold # 1\n",
      "processing_fold # 2\n",
      "processing_fold # 3\n",
      "processing_fold # 4\n"
     ]
    }
   ],
   "source": [
    "for i in range(k):\n",
    "    print('processing_fold #', i+1)\n",
    "    # 开始划分数据\n",
    "    val_data = train_data[i * num_val_samples : (i + 1) * num_val_samples]\n",
    "    val_tagets = train_targets[i * num_val_samples : (i + 1) * num_val_samples]\n",
    "    # 进行组合\n",
    "    partial_train_data = np.concatenate([train_data[0: i * num_val_samples ], train_data[( i + 1) *  num_val_samples: ]], axis=0)\n",
    "    partial_train_targets = np.concatenate([train_targets[0: i * num_val_samples ], train_targets[( i + 1) *  num_val_samples: ]], axis=0)\n",
    "    \n",
    "    # 创建模型\n",
    "    model = bulid_network()\n",
    "    # verbose=0, 表示不输出训练信息\n",
    "    model.fit(partial_train_data, partial_train_targets, epochs=epochs, batch_size=16, verbose=0)\n",
    "    val_mse, val_mae = model.evaluate(val_data, val_tagets, verbose=0)\n",
    "    all_scores.append(val_mae)"
   ]
  },
  {
   "cell_type": "code",
   "execution_count": 16,
   "metadata": {
    "collapsed": false
   },
   "outputs": [
    {
     "name": "stdout",
     "output_type": "stream",
     "text": [
      "All scores:  [1.924640688565698, 2.4316208055703945, 2.514633008749178, 2.370800575407425]\n",
      "mean scores:  2.3104237695731737\n"
     ]
    }
   ],
   "source": [
    "# 查看分数\n",
    "print('All scores: ', all_scores)\n",
    "print('mean scores: ', np.mean(all_scores))"
   ]
  },
  {
   "cell_type": "markdown",
   "metadata": {},
   "source": [
    "从结果中可以看到，每次的运行的分数都不一样（1.9-2.5)，但平均分2.3看起来更加的可靠点。"
   ]
  },
  {
   "cell_type": "markdown",
   "metadata": {},
   "source": [
    "## 保存验证集的训练日志"
   ]
  },
  {
   "cell_type": "code",
   "execution_count": 17,
   "metadata": {
    "collapsed": false
   },
   "outputs": [
    {
     "name": "stdout",
     "output_type": "stream",
     "text": [
      "processing_fold # 1\n",
      "processing_fold # 2\n",
      "processing_fold # 3\n",
      "processing_fold # 4\n"
     ]
    }
   ],
   "source": [
    "epochs = 500\n",
    "all_mae_histogries = []\n",
    "for i in range(k):\n",
    "    print('processing_fold #', i+1)\n",
    "    # 开始划分数据\n",
    "    val_data = train_data[i * num_val_samples : (i + 1) * num_val_samples]\n",
    "    val_tagets = train_targets[i * num_val_samples : (i + 1) * num_val_samples]\n",
    "    # 进行组合\n",
    "    partial_train_data = np.concatenate([train_data[0: i * num_val_samples ], train_data[( i + 1) *  num_val_samples: ]], axis=0)\n",
    "    partial_train_targets = np.concatenate([train_targets[0: i * num_val_samples ], train_targets[( i + 1) *  num_val_samples: ]], axis=0)\n",
    "    \n",
    "    # 创建模型\n",
    "    model = bulid_network()\n",
    "    # verbose=0, 表示不输出训练信息\n",
    "    history = model.fit(partial_train_data, partial_train_targets, validation_data=(val_data, val_tagets), \n",
    "              epochs=epochs, batch_size=16, verbose=0)\n",
    "    # 记录\n",
    "    mae_history = history.history['val_mean_absolute_error']\n",
    "    all_mae_histogries.append(mae_history)"
   ]
  },
  {
   "cell_type": "code",
   "execution_count": 19,
   "metadata": {
    "collapsed": false
   },
   "outputs": [],
   "source": [
    "# 计算平均error,即每一个eoches，每个val_error的第epoches的平均值\n",
    "average_mae_history = [np.mean([x[i] for x in all_mae_histogries]) for i in range(epochs)]"
   ]
  },
  {
   "cell_type": "code",
   "execution_count": 21,
   "metadata": {
    "collapsed": false
   },
   "outputs": [
    {
     "data": {
      "text/plain": [
       "[19.285466937735528,\n",
       " 16.088818375426946,\n",
       " 12.166197896003723,\n",
       " 8.416106265960353,\n",
       " 6.165305027277163,\n",
       " 5.168594648342322,\n",
       " 4.502406309441765,\n",
       " 3.942890224775465,\n",
       " 3.6919081860249587,\n",
       " 3.4350295202566845]"
      ]
     },
     "execution_count": 21,
     "metadata": {},
     "output_type": "execute_result"
    }
   ],
   "source": [
    "average_mae_history[:10]"
   ]
  },
  {
   "cell_type": "markdown",
   "metadata": {},
   "source": [
    "## 将曲线绘制出来"
   ]
  },
  {
   "cell_type": "code",
   "execution_count": 22,
   "metadata": {
    "collapsed": false
   },
   "outputs": [
    {
     "name": "stderr",
     "output_type": "stream",
     "text": [
      "E:\\Anaconda3\\lib\\site-packages\\matplotlib\\axes\\_axes.py:545: UserWarning: No labelled objects found. Use label='...' kwarg on individual plots.\n",
      "  warnings.warn(\"No labelled objects found. \"\n"
     ]
    },
    {
     "data": {
      "image/png": "[encoded data removed]",
      "text/plain": [
       "<matplotlib.figure.Figure at 0x168eac26f28>"
      ]
     },
     "metadata": {},
     "output_type": "display_data"
    }
   ],
   "source": [
    "plt.plot(range(1, epochs + 1), average_mae_history)\n",
    "plt.title('The Average MAE logs\\n')\n",
    "plt.xlabel('Epoch #')\n",
    "plt.ylabel('Validation MAE')\n",
    "plt.legend()\n",
    "plt.show()"
   ]
  },
  {
   "cell_type": "markdown",
   "metadata": {},
   "source": [
    "但从以上这幅图，我们感觉应该是在epoch=120左右，模型就已经停止改善了，并且开始过拟合。<br>\n",
    "我们来证明这一点。<br>"
   ]
  },
  {
   "cell_type": "markdown",
   "metadata": {},
   "source": [
    "## 平滑数据\n",
    "* 由上图中看出，前10个epoch的数据variance比较大，所以我们舍弃这10个点。<br>\n",
    "* 用剩余的点进行这样的操作：每个点替换为前面点的指数移动平均值，以获得平滑曲线。\n",
    "* 那到底什么是指数移动平均（Exponential moving average, EMA, 它起到的效果是移动平均线能较好的反应时间序列的变化趋势，权重的大小不同起到的作用也是不同，时间比较久远的变量值的影响力相对较低，时间比较近的变量值的影响力相对较高*\n",
    "* 这里不详细解释EMA，想更好地理解EMA，建议去看Andrew老师的Machine Learning课程哦*"
   ]
  },
  {
   "cell_type": "code",
   "execution_count": 37,
   "metadata": {
    "collapsed": true
   },
   "outputs": [],
   "source": [
    "def smooth_curve(points, factor=0.9):\n",
    "    smoothed_points = []\n",
    "    for point in points:\n",
    "        # 已经存在数据，则用最后一个点的加权数据\n",
    "        if smoothed_points:\n",
    "            previous = smoothed_points[-1]\n",
    "            point = previous * factor + point * (1 - factor)\n",
    "            smoothed_points.append(point)\n",
    "        else:\n",
    "            # 第一个点\n",
    "            smoothed_points.append(point)   \n",
    "    return smoothed_points"
   ]
  },
  {
   "cell_type": "code",
   "execution_count": 38,
   "metadata": {
    "collapsed": false,
    "scrolled": true
   },
   "outputs": [],
   "source": [
    "smooth_mae_history = smooth_curve(average_mae_history[10:])"
   ]
  },
  {
   "cell_type": "code",
   "execution_count": 39,
   "metadata": {
    "collapsed": false
   },
   "outputs": [
    {
     "name": "stderr",
     "output_type": "stream",
     "text": [
      "E:\\Anaconda3\\lib\\site-packages\\matplotlib\\axes\\_axes.py:545: UserWarning: No labelled objects found. Use label='...' kwarg on individual plots.\n",
      "  warnings.warn(\"No labelled objects found. \"\n"
     ]
    },
    {
     "data": {
      "image/png": "[encoded data removed]",
      "text/plain": [
       "<matplotlib.figure.Figure at 0x1691a751940>"
      ]
     },
     "metadata": {},
     "output_type": "display_data"
    }
   ],
   "source": [
    "plt.plot(range(1, len(smooth_mae_history) + 1), smooth_mae_history)\n",
    "plt.title('The Average MAE logs\\n')\n",
    "plt.xlabel('Epoch #')\n",
    "plt.ylabel('Validation MAE')\n",
    "plt.legend()\n",
    "plt.show()"
   ]
  },
  {
   "cell_type": "markdown",
   "metadata": {},
   "source": [
    "根据这张图，大概在epoch=120左右就已经开始过拟合了"
   ]
  },
  {
   "cell_type": "code",
   "execution_count": 45,
   "metadata": {
    "collapsed": false
   },
   "outputs": [
    {
     "name": "stdout",
     "output_type": "stream",
     "text": [
      "Epoch 1/120\n",
      "303/303 [==============================] - 0s 1ms/step - loss: 494.8398 - mean_absolute_error: 20.5458\n",
      "Epoch 2/120\n",
      "303/303 [==============================] - 0s 284us/step - loss: 376.2325 - mean_absolute_error: 17.6118\n",
      "Epoch 3/120\n",
      "303/303 [==============================] - 0s 241us/step - loss: 251.3917 - mean_absolute_error: 13.9028\n",
      "Epoch 4/120\n",
      "303/303 [==============================] - 0s 211us/step - loss: 142.8422 - mean_absolute_error: 9.8113\n",
      "Epoch 5/120\n",
      "303/303 [==============================] - 0s 230us/step - loss: 77.5235 - mean_absolute_error: 6.8604\n",
      "Epoch 6/120\n",
      "303/303 [==============================] - 0s 207us/step - loss: 49.8307 - mean_absolute_error: 5.2677\n",
      "Epoch 7/120\n",
      "303/303 [==============================] - 0s 214us/step - loss: 36.0941 - mean_absolute_error: 4.3068\n",
      "Epoch 8/120\n",
      "303/303 [==============================] - 0s 218us/step - loss: 28.2242 - mean_absolute_error: 3.6784\n",
      "Epoch 9/120\n",
      "303/303 [==============================] - 0s 230us/step - loss: 23.5061 - mean_absolute_error: 3.2968\n",
      "Epoch 10/120\n",
      "303/303 [==============================] - 0s 211us/step - loss: 20.9670 - mean_absolute_error: 3.0997\n",
      "Epoch 11/120\n",
      "303/303 [==============================] - 0s 214us/step - loss: 19.3094 - mean_absolute_error: 2.9601\n",
      "Epoch 12/120\n",
      "303/303 [==============================] - 0s 235us/step - loss: 17.8068 - mean_absolute_error: 2.8645\n",
      "Epoch 13/120\n",
      "303/303 [==============================] - 0s 221us/step - loss: 16.4248 - mean_absolute_error: 2.7361\n",
      "Epoch 14/120\n",
      "303/303 [==============================] - 0s 221us/step - loss: 15.5852 - mean_absolute_error: 2.6790\n",
      "Epoch 15/120\n",
      "303/303 [==============================] - 0s 244us/step - loss: 14.5661 - mean_absolute_error: 2.5749\n",
      "Epoch 16/120\n",
      "303/303 [==============================] - 0s 244us/step - loss: 13.8756 - mean_absolute_error: 2.5369\n",
      "Epoch 17/120\n",
      "303/303 [==============================] - 0s 221us/step - loss: 13.0114 - mean_absolute_error: 2.4233\n",
      "Epoch 18/120\n",
      "303/303 [==============================] - 0s 240us/step - loss: 12.6146 - mean_absolute_error: 2.3882\n",
      "Epoch 19/120\n",
      "303/303 [==============================] - 0s 230us/step - loss: 11.9521 - mean_absolute_error: 2.3549\n",
      "Epoch 20/120\n",
      "303/303 [==============================] - 0s 214us/step - loss: 11.6097 - mean_absolute_error: 2.2844\n",
      "Epoch 21/120\n",
      "303/303 [==============================] - 0s 207us/step - loss: 11.3683 - mean_absolute_error: 2.2871\n",
      "Epoch 22/120\n",
      "303/303 [==============================] - 0s 214us/step - loss: 10.8833 - mean_absolute_error: 2.2407\n",
      "Epoch 23/120\n",
      "303/303 [==============================] - 0s 310us/step - loss: 10.5862 - mean_absolute_error: 2.2531\n",
      "Epoch 24/120\n",
      "303/303 [==============================] - 0s 224us/step - loss: 10.4092 - mean_absolute_error: 2.2244\n",
      "Epoch 25/120\n",
      "303/303 [==============================] - 0s 251us/step - loss: 10.1466 - mean_absolute_error: 2.1917\n",
      "Epoch 26/120\n",
      "303/303 [==============================] - 0s 230us/step - loss: 9.9120 - mean_absolute_error: 2.1805\n",
      "Epoch 27/120\n",
      "303/303 [==============================] - 0s 175us/step - loss: 9.7395 - mean_absolute_error: 2.1441\n",
      "Epoch 28/120\n",
      "303/303 [==============================] - 0s 233us/step - loss: 9.5754 - mean_absolute_error: 2.1201\n",
      "Epoch 29/120\n",
      "303/303 [==============================] - 0s 211us/step - loss: 9.3701 - mean_absolute_error: 2.1438\n",
      "Epoch 30/120\n",
      "303/303 [==============================] - 0s 228us/step - loss: 9.1173 - mean_absolute_error: 2.1370\n",
      "Epoch 31/120\n",
      "303/303 [==============================] - 0s 217us/step - loss: 9.1392 - mean_absolute_error: 2.0961\n",
      "Epoch 32/120\n",
      "303/303 [==============================] - 0s 242us/step - loss: 8.9644 - mean_absolute_error: 2.0654\n",
      "Epoch 33/120\n",
      "303/303 [==============================] - 0s 227us/step - loss: 8.6647 - mean_absolute_error: 2.0788\n",
      "Epoch 34/120\n",
      "303/303 [==============================] - 0s 231us/step - loss: 8.6492 - mean_absolute_error: 2.0612\n",
      "Epoch 35/120\n",
      "303/303 [==============================] - 0s 234us/step - loss: 8.5832 - mean_absolute_error: 2.0525\n",
      "Epoch 36/120\n",
      "303/303 [==============================] - 0s 247us/step - loss: 8.3131 - mean_absolute_error: 2.0249\n",
      "Epoch 37/120\n",
      "303/303 [==============================] - 0s 248us/step - loss: 8.3491 - mean_absolute_error: 2.0412\n",
      "Epoch 38/120\n",
      "303/303 [==============================] - 0s 240us/step - loss: 8.0007 - mean_absolute_error: 1.9525\n",
      "Epoch 39/120\n",
      "303/303 [==============================] - 0s 263us/step - loss: 8.1581 - mean_absolute_error: 2.0028\n",
      "Epoch 40/120\n",
      "303/303 [==============================] - 0s 250us/step - loss: 8.1228 - mean_absolute_error: 2.0451\n",
      "Epoch 41/120\n",
      "303/303 [==============================] - 0s 247us/step - loss: 8.0116 - mean_absolute_error: 1.9700\n",
      "Epoch 42/120\n",
      "303/303 [==============================] - 0s 227us/step - loss: 7.9408 - mean_absolute_error: 1.9782\n",
      "Epoch 43/120\n",
      "303/303 [==============================] - 0s 234us/step - loss: 7.6136 - mean_absolute_error: 1.9404\n",
      "Epoch 44/120\n",
      "303/303 [==============================] - 0s 237us/step - loss: 7.7901 - mean_absolute_error: 1.9552\n",
      "Epoch 45/120\n",
      "303/303 [==============================] - 0s 240us/step - loss: 7.5764 - mean_absolute_error: 1.9367\n",
      "Epoch 46/120\n",
      "303/303 [==============================] - 0s 260us/step - loss: 7.4784 - mean_absolute_error: 1.9207\n",
      "Epoch 47/120\n",
      "303/303 [==============================] - 0s 247us/step - loss: 7.7205 - mean_absolute_error: 1.9209\n",
      "Epoch 48/120\n",
      "303/303 [==============================] - 0s 329us/step - loss: 7.4690 - mean_absolute_error: 1.9073\n",
      "Epoch 49/120\n",
      "303/303 [==============================] - 0s 346us/step - loss: 7.1757 - mean_absolute_error: 1.8804\n",
      "Epoch 50/120\n",
      "303/303 [==============================] - 0s 283us/step - loss: 7.0446 - mean_absolute_error: 1.8791\n",
      "Epoch 51/120\n",
      "303/303 [==============================] - 0s 257us/step - loss: 7.4247 - mean_absolute_error: 1.8879\n",
      "Epoch 52/120\n",
      "303/303 [==============================] - 0s 267us/step - loss: 6.9157 - mean_absolute_error: 1.8506\n",
      "Epoch 53/120\n",
      "303/303 [==============================] - 0s 276us/step - loss: 7.2313 - mean_absolute_error: 1.8723\n",
      "Epoch 54/120\n",
      "303/303 [==============================] - 0s 300us/step - loss: 7.2035 - mean_absolute_error: 1.8544\n",
      "Epoch 55/120\n",
      "303/303 [==============================] - 0s 280us/step - loss: 6.8688 - mean_absolute_error: 1.8429\n",
      "Epoch 56/120\n",
      "303/303 [==============================] - 0s 234us/step - loss: 6.7989 - mean_absolute_error: 1.8278\n",
      "Epoch 57/120\n",
      "303/303 [==============================] - 0s 280us/step - loss: 6.8278 - mean_absolute_error: 1.8445\n",
      "Epoch 58/120\n",
      "303/303 [==============================] - 0s 224us/step - loss: 6.8259 - mean_absolute_error: 1.8418\n",
      "Epoch 59/120\n",
      "303/303 [==============================] - 0s 171us/step - loss: 6.7898 - mean_absolute_error: 1.8105\n",
      "Epoch 60/120\n",
      "303/303 [==============================] - 0s 174us/step - loss: 6.6309 - mean_absolute_error: 1.7902\n",
      "Epoch 61/120\n",
      "303/303 [==============================] - 0s 224us/step - loss: 6.5575 - mean_absolute_error: 1.7922\n",
      "Epoch 62/120\n",
      "303/303 [==============================] - 0s 207us/step - loss: 6.6845 - mean_absolute_error: 1.8154\n",
      "Epoch 63/120\n",
      "303/303 [==============================] - 0s 178us/step - loss: 6.5485 - mean_absolute_error: 1.8165\n",
      "Epoch 64/120\n",
      "303/303 [==============================] - 0s 174us/step - loss: 6.3372 - mean_absolute_error: 1.7790\n",
      "Epoch 65/120\n",
      "303/303 [==============================] - 0s 234us/step - loss: 6.3947 - mean_absolute_error: 1.7419\n",
      "Epoch 66/120\n",
      "303/303 [==============================] - 0s 207us/step - loss: 6.2793 - mean_absolute_error: 1.7798\n",
      "Epoch 67/120\n",
      "303/303 [==============================] - 0s 184us/step - loss: 6.2578 - mean_absolute_error: 1.7235\n",
      "Epoch 68/120\n",
      "303/303 [==============================] - 0s 197us/step - loss: 6.1569 - mean_absolute_error: 1.6984\n",
      "Epoch 69/120\n",
      "303/303 [==============================] - 0s 207us/step - loss: 6.1888 - mean_absolute_error: 1.7584\n",
      "Epoch 70/120\n",
      "303/303 [==============================] - 0s 197us/step - loss: 6.1771 - mean_absolute_error: 1.7435\n",
      "Epoch 71/120\n",
      "303/303 [==============================] - 0s 181us/step - loss: 5.8464 - mean_absolute_error: 1.6799\n",
      "Epoch 72/120\n",
      "303/303 [==============================] - 0s 194us/step - loss: 6.0730 - mean_absolute_error: 1.7143\n",
      "Epoch 73/120\n",
      "303/303 [==============================] - 0s 197us/step - loss: 5.9699 - mean_absolute_error: 1.7291\n",
      "Epoch 74/120\n",
      "303/303 [==============================] - 0s 211us/step - loss: 5.9147 - mean_absolute_error: 1.6961\n",
      "Epoch 75/120\n",
      "303/303 [==============================] - 0s 188us/step - loss: 5.7643 - mean_absolute_error: 1.6920\n",
      "Epoch 76/120\n",
      "303/303 [==============================] - 0s 204us/step - loss: 5.9539 - mean_absolute_error: 1.7011\n",
      "Epoch 77/120\n",
      "303/303 [==============================] - 0s 178us/step - loss: 5.9859 - mean_absolute_error: 1.6942\n",
      "Epoch 78/120\n",
      "303/303 [==============================] - 0s 178us/step - loss: 5.4635 - mean_absolute_error: 1.6439\n",
      "Epoch 79/120\n",
      "303/303 [==============================] - 0s 230us/step - loss: 5.6984 - mean_absolute_error: 1.6582\n",
      "Epoch 80/120\n",
      "303/303 [==============================] - 0s 234us/step - loss: 5.4648 - mean_absolute_error: 1.6357\n",
      "Epoch 81/120\n",
      "303/303 [==============================] - 0s 194us/step - loss: 5.5552 - mean_absolute_error: 1.6223\n",
      "Epoch 82/120\n",
      "303/303 [==============================] - 0s 204us/step - loss: 5.5498 - mean_absolute_error: 1.6678\n",
      "Epoch 83/120\n",
      "303/303 [==============================] - 0s 191us/step - loss: 5.5914 - mean_absolute_error: 1.6535\n",
      "Epoch 84/120\n",
      "303/303 [==============================] - 0s 184us/step - loss: 5.5580 - mean_absolute_error: 1.6458\n",
      "Epoch 85/120\n",
      "303/303 [==============================] - 0s 168us/step - loss: 5.3187 - mean_absolute_error: 1.6049\n",
      "Epoch 86/120\n",
      "303/303 [==============================] - 0s 168us/step - loss: 5.1848 - mean_absolute_error: 1.5766\n",
      "Epoch 87/120\n",
      "303/303 [==============================] - 0s 178us/step - loss: 5.4854 - mean_absolute_error: 1.6694\n",
      "Epoch 88/120\n",
      "303/303 [==============================] - 0s 168us/step - loss: 5.3395 - mean_absolute_error: 1.6283\n",
      "Epoch 89/120\n",
      "303/303 [==============================] - 0s 165us/step - loss: 5.4410 - mean_absolute_error: 1.6400\n",
      "Epoch 90/120\n",
      "303/303 [==============================] - 0s 174us/step - loss: 5.2647 - mean_absolute_error: 1.5928\n",
      "Epoch 91/120\n",
      "303/303 [==============================] - 0s 217us/step - loss: 5.2397 - mean_absolute_error: 1.6214\n",
      "Epoch 92/120\n",
      "303/303 [==============================] - 0s 207us/step - loss: 4.9864 - mean_absolute_error: 1.5467\n",
      "Epoch 93/120\n",
      "303/303 [==============================] - 0s 174us/step - loss: 5.1507 - mean_absolute_error: 1.5737\n",
      "Epoch 94/120\n",
      "303/303 [==============================] - 0s 165us/step - loss: 5.1471 - mean_absolute_error: 1.5768\n",
      "Epoch 95/120\n",
      "303/303 [==============================] - 0s 171us/step - loss: 5.1620 - mean_absolute_error: 1.5730\n",
      "Epoch 96/120\n",
      "303/303 [==============================] - 0s 181us/step - loss: 5.0339 - mean_absolute_error: 1.5621\n",
      "Epoch 97/120\n",
      "303/303 [==============================] - 0s 168us/step - loss: 4.9906 - mean_absolute_error: 1.5621\n",
      "Epoch 98/120\n",
      "303/303 [==============================] - 0s 161us/step - loss: 5.1245 - mean_absolute_error: 1.5646\n",
      "Epoch 99/120\n",
      "303/303 [==============================] - 0s 178us/step - loss: 4.8818 - mean_absolute_error: 1.5047\n",
      "Epoch 100/120\n",
      "303/303 [==============================] - 0s 171us/step - loss: 4.8966 - mean_absolute_error: 1.5385\n",
      "Epoch 101/120\n",
      "303/303 [==============================] - 0s 174us/step - loss: 4.9277 - mean_absolute_error: 1.5523\n",
      "Epoch 102/120\n",
      "303/303 [==============================] - 0s 178us/step - loss: 4.6332 - mean_absolute_error: 1.4907\n",
      "Epoch 103/120\n",
      "303/303 [==============================] - 0s 197us/step - loss: 4.7033 - mean_absolute_error: 1.5246\n",
      "Epoch 104/120\n",
      "303/303 [==============================] - 0s 168us/step - loss: 4.6012 - mean_absolute_error: 1.5123\n",
      "Epoch 105/120\n",
      "303/303 [==============================] - 0s 168us/step - loss: 4.7085 - mean_absolute_error: 1.5140\n",
      "Epoch 106/120\n",
      "303/303 [==============================] - 0s 174us/step - loss: 4.7337 - mean_absolute_error: 1.5232\n",
      "Epoch 107/120\n",
      "303/303 [==============================] - 0s 168us/step - loss: 4.5812 - mean_absolute_error: 1.5037\n",
      "Epoch 108/120\n",
      "303/303 [==============================] - 0s 168us/step - loss: 4.6083 - mean_absolute_error: 1.5105\n",
      "Epoch 109/120\n",
      "303/303 [==============================] - 0s 181us/step - loss: 4.5344 - mean_absolute_error: 1.4924\n",
      "Epoch 110/120\n",
      "303/303 [==============================] - 0s 174us/step - loss: 4.5895 - mean_absolute_error: 1.5138\n",
      "Epoch 111/120\n",
      "303/303 [==============================] - 0s 178us/step - loss: 4.6345 - mean_absolute_error: 1.5079\n",
      "Epoch 112/120\n",
      "303/303 [==============================] - 0s 181us/step - loss: 4.4344 - mean_absolute_error: 1.4466\n",
      "Epoch 113/120\n",
      "303/303 [==============================] - 0s 184us/step - loss: 4.5443 - mean_absolute_error: 1.4714\n",
      "Epoch 114/120\n",
      "303/303 [==============================] - 0s 171us/step - loss: 4.3574 - mean_absolute_error: 1.4513\n",
      "Epoch 115/120\n",
      "303/303 [==============================] - 0s 171us/step - loss: 4.3105 - mean_absolute_error: 1.4611\n",
      "Epoch 116/120\n",
      "303/303 [==============================] - 0s 178us/step - loss: 4.4634 - mean_absolute_error: 1.4820\n",
      "Epoch 117/120\n",
      "303/303 [==============================] - 0s 174us/step - loss: 4.2762 - mean_absolute_error: 1.4115\n",
      "Epoch 118/120\n",
      "303/303 [==============================] - 0s 171us/step - loss: 4.4501 - mean_absolute_error: 1.4398\n",
      "Epoch 119/120\n",
      "303/303 [==============================] - 0s 171us/step - loss: 4.1743 - mean_absolute_error: 1.4215\n",
      "Epoch 120/120\n",
      "303/303 [==============================] - 0s 168us/step - loss: 4.2483 - mean_absolute_error: 1.4246\n"
     ]
    },
    {
     "data": {
      "text/plain": [
       "<keras.callbacks.History at 0x1691dd85f60>"
      ]
     },
     "execution_count": 45,
     "metadata": {},
     "output_type": "execute_result"
    }
   ],
   "source": [
    "# 重新训练\n",
    "epochs = 120\n",
    "model = bulid_network()\n",
    "model.fit(partial_train_data, partial_train_targets, \n",
    "              epochs=epochs, batch_size=16, verbose=1)"
   ]
  },
  {
   "cell_type": "code",
   "execution_count": 46,
   "metadata": {
    "collapsed": false
   },
   "outputs": [
    {
     "name": "stdout",
     "output_type": "stream",
     "text": [
      "102/102 [==============================] - 0s 937us/step\n",
      "Test Mse score:  18.82627674177581\n",
      "Test Mae score:  2.6651412832970713\n"
     ]
    }
   ],
   "source": [
    "# 评估模型\n",
    "test_mse_score, test_mae_score = model.evaluate(test_data, test_targets)\n",
    "print('Test Mse score: ', test_mse_score)\n",
    "print('Test Mae score: ', test_mae_score)"
   ]
  },
  {
   "cell_type": "markdown",
   "metadata": {},
   "source": [
    "*当然，我们也可使用k-fold找到更多优秀的参数，如learning_rate, batch_size等超参数*"
   ]
  },
  {
   "cell_type": "code",
   "execution_count": null,
   "metadata": {
    "collapsed": true
   },
   "outputs": [],
   "source": []
  }
 ],
 "metadata": {
  "anaconda-cloud": {},
  "kernelspec": {
   "display_name": "Python [conda root]",
   "language": "python",
   "name": "conda-root-py"
  },
  "language_info": {
   "codemirror_mode": {
    "name": "ipython",
    "version": 3
   },
   "file_extension": ".py",
   "mimetype": "text/x-python",
   "name": "python",
   "nbconvert_exporter": "python",
   "pygments_lexer": "ipython3",
   "version": "3.5.2"
  }
 },
 "nbformat": 4,
 "nbformat_minor": 2
}
