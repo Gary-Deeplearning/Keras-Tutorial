{
 "cells": [
  {
   "cell_type": "markdown",
   "metadata": {},
   "source": [
    "## Part2-进行IMDB影评的分类\n",
    "这个任务为二分类任务，分为positive和negative两类"
   ]
  },
  {
   "cell_type": "code",
   "execution_count": 1,
   "metadata": {},
   "outputs": [
    {
     "name": "stderr",
     "output_type": "stream",
     "text": [
      "/usr/local/lib/python3.5/dist-packages/h5py/__init__.py:36: FutureWarning: Conversion of the second argument of issubdtype from `float` to `np.floating` is deprecated. In future, it will be treated as `np.float64 == np.dtype(float).type`.\n",
      "  from ._conv import register_converters as _register_converters\n",
      "Using TensorFlow backend.\n"
     ]
    }
   ],
   "source": [
    "from keras.datasets import imdb\n",
    "from keras.models import Sequential\n",
    "from keras.layers import Dense\n",
    "\n",
    "import numpy as np\n",
    "import matplotlib.pyplot as plt"
   ]
  },
  {
   "cell_type": "code",
   "execution_count": 2,
   "metadata": {},
   "outputs": [],
   "source": [
    "# 导入数据\n",
    "# num_words=10000表示我们只需要top10000经常出现的word\n",
    "(train_data, train_labels), (test_data, test_labels) = imdb.load_data(num_words=10000)"
   ]
  },
  {
   "cell_type": "code",
   "execution_count": 3,
   "metadata": {},
   "outputs": [
    {
     "name": "stdout",
     "output_type": "stream",
     "text": [
      "(25000,) (25000,)\n",
      "(25000,) (25000,)\n"
     ]
    }
   ],
   "source": [
    "# 我们来看一下数据的shape,25000个样本的训练集和25000个样本的测试集\n",
    "print(train_data.shape, train_labels.shape)\n",
    "print(test_data.shape, test_labels.shape)"
   ]
  },
  {
   "cell_type": "code",
   "execution_count": 4,
   "metadata": {},
   "outputs": [
    {
     "name": "stdout",
     "output_type": "stream",
     "text": [
      "218 189\n"
     ]
    }
   ],
   "source": [
    "# 从这里看出，每个样本的长度是不一致的\n",
    "print(len(train_data[0]), len(train_data[1]))"
   ]
  },
  {
   "cell_type": "code",
   "execution_count": 5,
   "metadata": {},
   "outputs": [
    {
     "data": {
      "text/plain": [
       "[1, 14, 22, 16, 43, 530, 973, 1622, 1385, 65]"
      ]
     },
     "execution_count": 5,
     "metadata": {},
     "output_type": "execute_result"
    }
   ],
   "source": [
    "# 这些数字都是word的representation\n",
    "train_data[0][:10]"
   ]
  },
  {
   "cell_type": "code",
   "execution_count": 6,
   "metadata": {},
   "outputs": [],
   "source": [
    "# 在这里，我们也可以将index->word\n",
    "word_index = imdb.get_word_index()\n",
    "# 将word和index创建字典\n",
    "reverse_word_index = dict(\n",
    "[value, key] for (key, value) in word_index.items())\n",
    "# 这里我们为什么要从3开始呢，因为0：为填充， 1为序列的开始，2为unknown\n",
    "decode_review = ''.join([reverse_word_index.get(i - 3, '?') for i in train_data[0]])"
   ]
  },
  {
   "cell_type": "markdown",
   "metadata": {},
   "source": [
    "### data process"
   ]
  },
  {
   "cell_type": "code",
   "execution_count": 7,
   "metadata": {},
   "outputs": [],
   "source": [
    "# 这一步是为了将数据vector化，以便后面可以input到网络中\n",
    "def vectorize_sequence(sequences, dimensions=10000):\n",
    "    # 创建一个(n_samples, n_dim)的矩阵\n",
    "    results = np.zeros((len(sequences), dimensions))\n",
    "    # 这一句代码的意思是，因为是10000个word，一段影评中，一般可能全部词语都出现，\n",
    "    # 所以我们将出现的词语的index的置1，没有出现的为0\n",
    "    for i, sequence in enumerate(sequences):\n",
    "        results[i, sequence] = 1.\n",
    "    return results"
   ]
  },
  {
   "cell_type": "code",
   "execution_count": 8,
   "metadata": {},
   "outputs": [],
   "source": [
    "x_train = vectorize_sequence(train_data)\n",
    "x_test = vectorize_sequence(test_data)"
   ]
  },
  {
   "cell_type": "code",
   "execution_count": 9,
   "metadata": {},
   "outputs": [
    {
     "name": "stdout",
     "output_type": "stream",
     "text": [
      "(25000, 10000)\n"
     ]
    }
   ],
   "source": [
    "print(x_train.shape)"
   ]
  },
  {
   "cell_type": "code",
   "execution_count": 10,
   "metadata": {},
   "outputs": [],
   "source": [
    "## 这里要将label与vector/array化\n",
    "y_train = np.asarray(train_labels).astype('float32')\n",
    "y_test = np.asarray(test_labels).astype('float32')"
   ]
  },
  {
   "cell_type": "code",
   "execution_count": 11,
   "metadata": {},
   "outputs": [
    {
     "name": "stdout",
     "output_type": "stream",
     "text": [
      "(25000,)\n",
      "1.0\n"
     ]
    }
   ],
   "source": [
    "print(y_train.shape)\n",
    "print(y_train[0])"
   ]
  },
  {
   "cell_type": "code",
   "execution_count": 12,
   "metadata": {},
   "outputs": [],
   "source": [
    "# 按照7：3的比例分割training_set和val_set\n",
    "from sklearn.model_selection import train_test_split\n",
    "\n",
    "x_train, x_val, y_train, y_val = train_test_split(x_train,y_train, test_size=0.3, random_state=42)"
   ]
  },
  {
   "cell_type": "code",
   "execution_count": 13,
   "metadata": {},
   "outputs": [
    {
     "name": "stdout",
     "output_type": "stream",
     "text": [
      "(17500, 10000)\n"
     ]
    }
   ],
   "source": [
    "print(x_train.shape)"
   ]
  },
  {
   "cell_type": "markdown",
   "metadata": {},
   "source": [
    "### Buliding the Network"
   ]
  },
  {
   "cell_type": "code",
   "execution_count": 14,
   "metadata": {},
   "outputs": [],
   "source": [
    "model = Sequential()\n",
    "# 因为输入层是10000个特征，所以input_shape为(10000, 16)\n",
    "model.add(Dense(units=16, activation='relu', input_shape=(10000, )))\n",
    "model.add(Dense(units=16, activation='relu'))\n",
    "model.add(Dense(units=1, activation='sigmoid'))\n",
    "\n",
    "# compile\n",
    "# 当然，你也可以选择其它的优化器，例如Adam/SGD..\n",
    "# 你也可以选择mse等其它的loss function， 但是我认为binary_crossentropy是二分类较好的loss function，因为最后输出的是概率\n",
    "model.compile(optimizer='rmsprop', loss='binary_crossentropy', metrics=['accuracy'])"
   ]
  },
  {
   "cell_type": "code",
   "execution_count": 15,
   "metadata": {},
   "outputs": [
    {
     "name": "stdout",
     "output_type": "stream",
     "text": [
      "Train on 17500 samples, validate on 7500 samples\n",
      "Epoch 1/20\n",
      "17500/17500 [==============================] - 3s 147us/step - loss: 0.4988 - acc: 0.7954 - val_loss: 0.3681 - val_acc: 0.8704\n",
      "Epoch 2/20\n",
      "17500/17500 [==============================] - 2s 95us/step - loss: 0.2859 - acc: 0.9050 - val_loss: 0.3069 - val_acc: 0.8792\n",
      "Epoch 3/20\n",
      "17500/17500 [==============================] - 2s 95us/step - loss: 0.2107 - acc: 0.9306 - val_loss: 0.2827 - val_acc: 0.8796\n",
      "Epoch 4/20\n",
      "17500/17500 [==============================] - 2s 97us/step - loss: 0.1670 - acc: 0.9431 - val_loss: 0.2896 - val_acc: 0.8776\n",
      "Epoch 5/20\n",
      "17500/17500 [==============================] - 2s 100us/step - loss: 0.1403 - acc: 0.9535 - val_loss: 0.2892 - val_acc: 0.8820\n",
      "Epoch 6/20\n",
      "17500/17500 [==============================] - 2s 97us/step - loss: 0.1137 - acc: 0.9637 - val_loss: 0.3199 - val_acc: 0.8759\n",
      "Epoch 7/20\n",
      "17500/17500 [==============================] - 2s 98us/step - loss: 0.0957 - acc: 0.9697 - val_loss: 0.3332 - val_acc: 0.8756\n",
      "Epoch 8/20\n",
      "17500/17500 [==============================] - 2s 96us/step - loss: 0.0831 - acc: 0.9739 - val_loss: 0.3680 - val_acc: 0.8727\n",
      "Epoch 9/20\n",
      "17500/17500 [==============================] - 2s 96us/step - loss: 0.0686 - acc: 0.9790 - val_loss: 0.3892 - val_acc: 0.8715\n",
      "Epoch 10/20\n",
      "17500/17500 [==============================] - 2s 96us/step - loss: 0.0554 - acc: 0.9844 - val_loss: 0.4499 - val_acc: 0.8652\n",
      "Epoch 11/20\n",
      "17500/17500 [==============================] - 2s 97us/step - loss: 0.0470 - acc: 0.9866 - val_loss: 0.5008 - val_acc: 0.8568\n",
      "Epoch 12/20\n",
      "17500/17500 [==============================] - 2s 97us/step - loss: 0.0407 - acc: 0.9893 - val_loss: 0.4934 - val_acc: 0.8644\n",
      "Epoch 13/20\n",
      "17500/17500 [==============================] - 2s 97us/step - loss: 0.0322 - acc: 0.9926 - val_loss: 0.5100 - val_acc: 0.8665\n",
      "Epoch 14/20\n",
      "17500/17500 [==============================] - 2s 98us/step - loss: 0.0234 - acc: 0.9950 - val_loss: 0.5813 - val_acc: 0.8621\n",
      "Epoch 15/20\n",
      "17500/17500 [==============================] - 2s 97us/step - loss: 0.0219 - acc: 0.9947 - val_loss: 0.5834 - val_acc: 0.8624\n",
      "Epoch 16/20\n",
      "17500/17500 [==============================] - 2s 97us/step - loss: 0.0158 - acc: 0.9969 - val_loss: 0.6220 - val_acc: 0.8617\n",
      "Epoch 17/20\n",
      "17500/17500 [==============================] - 2s 97us/step - loss: 0.0138 - acc: 0.9971 - val_loss: 0.6617 - val_acc: 0.8609\n",
      "Epoch 18/20\n",
      "17500/17500 [==============================] - 2s 95us/step - loss: 0.0123 - acc: 0.9978 - val_loss: 0.6985 - val_acc: 0.8613\n",
      "Epoch 19/20\n",
      "17500/17500 [==============================] - 2s 98us/step - loss: 0.0064 - acc: 0.9993 - val_loss: 0.7936 - val_acc: 0.8544\n",
      "Epoch 20/20\n",
      "17500/17500 [==============================] - 2s 94us/step - loss: 0.0088 - acc: 0.9985 - val_loss: 0.7750 - val_acc: 0.8577\n"
     ]
    }
   ],
   "source": [
    "history = model.fit(x=x_train, y=y_train, batch_size=512, epochs=20, validation_data=(x_val, y_val))"
   ]
  },
  {
   "cell_type": "code",
   "execution_count": 16,
   "metadata": {},
   "outputs": [
    {
     "name": "stdout",
     "output_type": "stream",
     "text": [
      "dict_keys(['val_acc', 'loss', 'val_loss', 'acc'])\n"
     ]
    }
   ],
   "source": [
    "# 查看模型训练返回的结果\n",
    "history_dict = history.history\n",
    "print(history_dict.keys())"
   ]
  },
  {
   "cell_type": "code",
   "execution_count": 17,
   "metadata": {},
   "outputs": [
    {
     "data": {
      "image/png": "[encoded data removed]",
      "text/plain": [
       "<matplotlib.figure.Figure at 0x7f884460d470>"
      ]
     },
     "metadata": {},
     "output_type": "display_data"
    }
   ],
   "source": [
    "# 绘图\n",
    "train_loss = history_dict['loss']\n",
    "val_loss = history_dict['val_loss']\n",
    "train_acc = history_dict['acc']\n",
    "val_acc = history_dict['val_acc']\n",
    "\n",
    "epochs = range(1, len(train_acc) + 1)\n",
    "\n",
    "plt.figure(figsize=(10, 8))\n",
    "\n",
    "plt.plot(epochs, train_loss, label='training_loss')\n",
    "plt.plot(epochs, val_loss, label='val_loss')\n",
    "plt.plot(epochs, train_acc, label='training_acc')\n",
    "plt.plot(epochs, val_acc, label='val_acc')\n",
    "plt.xlabel('Epochs #')\n",
    "plt.ylabel('Loss/Acc')\n",
    "plt.legend()\n",
    "plt.show()"
   ]
  },
  {
   "cell_type": "markdown",
   "metadata": {},
   "source": [
    "## 任务：\n",
    "有兴趣的同学，可以尝试下继续训练模型，更换参数，改变隐藏层的units数量，如32，64，128...<br>\n",
    "更换Adam/SGD等优化器\n",
    "更换mse loss function做对比"
   ]
  },
  {
   "cell_type": "code",
   "execution_count": null,
   "metadata": {},
   "outputs": [],
   "source": []
  }
 ],
 "metadata": {
  "kernelspec": {
   "display_name": "Python 3",
   "language": "python",
   "name": "python3"
  },
  "language_info": {
   "codemirror_mode": {
    "name": "ipython",
    "version": 3
   },
   "file_extension": ".py",
   "mimetype": "text/x-python",
   "name": "python",
   "nbconvert_exporter": "python",
   "pygments_lexer": "ipython3",
   "version": "3.5.2"
  }
 },
 "nbformat": 4,
 "nbformat_minor": 2
}
