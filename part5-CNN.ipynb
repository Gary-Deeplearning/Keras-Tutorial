{
 "cells": [
  {
   "cell_type": "markdown",
   "metadata": {},
   "source": [
    "# 卷积神经网络Convolution Neural Network\n",
    "** 简单介绍 **<br>\n",
    "* CNN是一个模仿人类视觉原理的一个神经网络。\n",
    "* 与全连接网络相比，CNN可以更大效率的降低参数的数量。\n",
    "* 与全连接网络相比，CNN可以更好的提取图像的特征。"
   ]
  },
  {
   "cell_type": "code",
   "execution_count": 1,
   "metadata": {
    "collapsed": false
   },
   "outputs": [
    {
     "name": "stderr",
     "output_type": "stream",
     "text": [
      "E:\\Anaconda3\\lib\\site-packages\\h5py\\__init__.py:36: FutureWarning: Conversion of the second argument of issubdtype from `float` to `np.floating` is deprecated. In future, it will be treated as `np.float64 == np.dtype(float).type`.\n",
      "  from ._conv import register_converters as _register_converters\n",
      "Using TensorFlow backend.\n"
     ]
    }
   ],
   "source": [
    "# 导入数据\n",
    "import numpy as np\n",
    "from keras.utils import to_categorical\n",
    "from keras.datasets import mnist\n",
    "from sklearn.model_selection import train_test_split"
   ]
  },
  {
   "cell_type": "code",
   "execution_count": 2,
   "metadata": {
    "collapsed": true
   },
   "outputs": [],
   "source": [
    "(train_data, train_labels), (test_data, test_labels) = mnist.load_data()"
   ]
  },
  {
   "cell_type": "code",
   "execution_count": 3,
   "metadata": {
    "collapsed": false
   },
   "outputs": [],
   "source": [
    "# 数据预处理\n",
    "train_data = train_data.reshape(60000, 28, 28, 1)\n",
    "train_data = train_data.astype(\"float32\") / 255.\n",
    "test_data = test_data.reshape(10000, 28, 28, 1)\n",
    "x_test = test_data.astype(\"float32\") / 255.\n",
    "\n",
    "train_labels = to_categorical(train_labels)\n",
    "y_test = to_categorical(test_labels)\n",
    "\n",
    "x_train, x_val, y_train, y_val = train_test_split(train_data, train_labels, random_state=42, test_size=0.25)"
   ]
  },
  {
   "cell_type": "markdown",
   "metadata": {},
   "source": [
    "## Simple CNN"
   ]
  },
  {
   "cell_type": "code",
   "execution_count": 4,
   "metadata": {
    "collapsed": false
   },
   "outputs": [],
   "source": [
    "from keras.layers import Conv2D, MaxPooling2D, Flatten, Dense\n",
    "from keras.models import Sequential"
   ]
  },
  {
   "cell_type": "code",
   "execution_count": 5,
   "metadata": {
    "collapsed": true
   },
   "outputs": [],
   "source": [
    "model = Sequential()\n",
    "# 第一层使用32个3*3的卷积核\n",
    "# 要注意CNN的input层要注明通道数的\n",
    "model.add(Conv2D(filters=32, kernel_size=(3, 3), activation='relu', input_shape=(28, 28, 1)))\n",
    "# 使用2*2的Maxpooling池化层\n",
    "model.add(MaxPooling2D(pool_size=(2, 2)))\n",
    "model.add(Conv2D(filters=64, kernel_size=(3, 3), activation='relu'))\n",
    "# Flatten层指的是将上面的卷积层的输出展平，以便后面可以作为全连接层的输入\n",
    "model.add(Flatten())"
   ]
  },
  {
   "cell_type": "code",
   "execution_count": 6,
   "metadata": {
    "collapsed": false
   },
   "outputs": [
    {
     "name": "stdout",
     "output_type": "stream",
     "text": [
      "_________________________________________________________________\n",
      "Layer (type)                 Output Shape              Param #   \n",
      "=================================================================\n",
      "conv2d_1 (Conv2D)            (None, 26, 26, 32)        320       \n",
      "_________________________________________________________________\n",
      "max_pooling2d_1 (MaxPooling2 (None, 13, 13, 32)        0         \n",
      "_________________________________________________________________\n",
      "conv2d_2 (Conv2D)            (None, 11, 11, 64)        18496     \n",
      "_________________________________________________________________\n",
      "flatten_1 (Flatten)          (None, 7744)              0         \n",
      "=================================================================\n",
      "Total params: 18,816\n",
      "Trainable params: 18,816\n",
      "Non-trainable params: 0\n",
      "_________________________________________________________________\n"
     ]
    }
   ],
   "source": [
    "# 先查看以上部分的网络的示意图\n",
    "# 可得 7744=11*11*64是正确的，并且总共参数数量为18816\n",
    "model.summary()"
   ]
  },
  {
   "cell_type": "code",
   "execution_count": 7,
   "metadata": {
    "collapsed": true
   },
   "outputs": [],
   "source": [
    "# 继续添加全连接层\n",
    "model.add(Dense(units=64, activation='relu'))\n",
    "model.add(Dense(units=10, activation='softmax'))"
   ]
  },
  {
   "cell_type": "code",
   "execution_count": 8,
   "metadata": {
    "collapsed": false
   },
   "outputs": [
    {
     "name": "stdout",
     "output_type": "stream",
     "text": [
      "_________________________________________________________________\n",
      "Layer (type)                 Output Shape              Param #   \n",
      "=================================================================\n",
      "conv2d_1 (Conv2D)            (None, 26, 26, 32)        320       \n",
      "_________________________________________________________________\n",
      "max_pooling2d_1 (MaxPooling2 (None, 13, 13, 32)        0         \n",
      "_________________________________________________________________\n",
      "conv2d_2 (Conv2D)            (None, 11, 11, 64)        18496     \n",
      "_________________________________________________________________\n",
      "flatten_1 (Flatten)          (None, 7744)              0         \n",
      "_________________________________________________________________\n",
      "dense_1 (Dense)              (None, 64)                495680    \n",
      "_________________________________________________________________\n",
      "dense_2 (Dense)              (None, 10)                650       \n",
      "=================================================================\n",
      "Total params: 515,146\n",
      "Trainable params: 515,146\n",
      "Non-trainable params: 0\n",
      "_________________________________________________________________\n"
     ]
    }
   ],
   "source": [
    "# 很明显，我们只是添加了两层全连接层，一个64节点，一个10节点\n",
    "# 然后参数已经到达了515,146的数量，远远大于卷积层的参数数量\n",
    "model.summary()"
   ]
  },
  {
   "cell_type": "code",
   "execution_count": 9,
   "metadata": {
    "collapsed": true
   },
   "outputs": [
    {
     "name": "stdout",
     "output_type": "stream",
     "text": [
      "Train on 45000 samples, validate on 15000 samples\n",
      "Epoch 1/20\n",
      "45000/45000 [==============================] - 8s 168us/step - loss: 0.2129 - acc: 0.9336 - val_loss: 0.0730 - val_acc: 0.9779\n",
      "Epoch 2/20\n",
      "45000/45000 [==============================] - 5s 116us/step - loss: 0.0575 - acc: 0.9820 - val_loss: 0.0650 - val_acc: 0.9809\n",
      "Epoch 3/20\n",
      "45000/45000 [==============================] - 5s 116us/step - loss: 0.0367 - acc: 0.9886 - val_loss: 0.0565 - val_acc: 0.9843\n",
      "Epoch 4/20\n",
      "45000/45000 [==============================] - 5s 117us/step - loss: 0.0259 - acc: 0.9920 - val_loss: 0.0560 - val_acc: 0.9863\n",
      "Epoch 5/20\n",
      "45000/45000 [==============================] - 5s 116us/step - loss: 0.0182 - acc: 0.9944 - val_loss: 0.0514 - val_acc: 0.9866\n",
      "Epoch 6/20\n",
      "45000/45000 [==============================] - 6s 130us/step - loss: 0.0134 - acc: 0.9960 - val_loss: 0.0450 - val_acc: 0.9885\n",
      "Epoch 7/20\n",
      "45000/45000 [==============================] - 5s 116us/step - loss: 0.0097 - acc: 0.9968 - val_loss: 0.0562 - val_acc: 0.9875\n",
      "Epoch 8/20\n",
      "45000/45000 [==============================] - 5s 122us/step - loss: 0.0079 - acc: 0.9976 - val_loss: 0.0550 - val_acc: 0.9875\n",
      "Epoch 9/20\n",
      "45000/45000 [==============================] - 5s 116us/step - loss: 0.0062 - acc: 0.9982 - val_loss: 0.0568 - val_acc: 0.9887\n",
      "Epoch 10/20\n",
      "45000/45000 [==============================] - 5s 116us/step - loss: 0.0045 - acc: 0.9986 - val_loss: 0.0578 - val_acc: 0.9886\n",
      "Epoch 11/20\n",
      "45000/45000 [==============================] - 5s 117us/step - loss: 0.0040 - acc: 0.9987 - val_loss: 0.0632 - val_acc: 0.9897\n",
      "Epoch 12/20\n",
      "45000/45000 [==============================] - 5s 116us/step - loss: 0.0029 - acc: 0.9992 - val_loss: 0.0718 - val_acc: 0.9887\n",
      "Epoch 13/20\n",
      "45000/45000 [==============================] - 5s 118us/step - loss: 0.0021 - acc: 0.9994 - val_loss: 0.0888 - val_acc: 0.9881\n",
      "Epoch 14/20\n",
      "45000/45000 [==============================] - 5s 118us/step - loss: 0.0024 - acc: 0.9994 - val_loss: 0.0839 - val_acc: 0.9874\n",
      "Epoch 15/20\n",
      "45000/45000 [==============================] - 5s 118us/step - loss: 0.0018 - acc: 0.9995 - val_loss: 0.0854 - val_acc: 0.9881\n",
      "Epoch 16/20\n",
      "45000/45000 [==============================] - 5s 119us/step - loss: 0.0014 - acc: 0.9996 - val_loss: 0.0825 - val_acc: 0.9888\n",
      "Epoch 17/20\n",
      "45000/45000 [==============================] - 5s 116us/step - loss: 0.0018 - acc: 0.9994 - val_loss: 0.0887 - val_acc: 0.9899\n",
      "Epoch 18/20\n",
      "45000/45000 [==============================] - 5s 119us/step - loss: 0.0017 - acc: 0.9995 - val_loss: 0.0920 - val_acc: 0.9886\n",
      "Epoch 19/20\n",
      "45000/45000 [==============================] - 5s 117us/step - loss: 0.0013 - acc: 0.9996 - val_loss: 0.0893 - val_acc: 0.9881\n",
      "Epoch 20/20\n",
      "45000/45000 [==============================] - 5s 116us/step - loss: 8.0244e-04 - acc: 0.9999 - val_loss: 0.0968 - val_acc: 0.9878\n"
     ]
    },
    {
     "data": {
      "text/plain": [
       "<keras.callbacks.History at 0x13b2a50de80>"
      ]
     },
     "execution_count": 9,
     "metadata": {},
     "output_type": "execute_result"
    }
   ],
   "source": [
    "model.compile(optimizer='rmsprop', loss='categorical_crossentropy', metrics=['accuracy'])\n",
    "model.fit(x=x_train, y=y_train, validation_data=(x_val, y_val), batch_size=128, epochs=20)"
   ]
  },
  {
   "cell_type": "code",
   "execution_count": 13,
   "metadata": {
    "collapsed": false
   },
   "outputs": [
    {
     "name": "stdout",
     "output_type": "stream",
     "text": [
      "10000/10000 [==============================] - 1s 146us/step\n"
     ]
    }
   ],
   "source": [
    "test_loss, test_acc = model.evaluate(x_test, y_test)"
   ]
  },
  {
   "cell_type": "code",
   "execution_count": 14,
   "metadata": {
    "collapsed": false
   },
   "outputs": [
    {
     "name": "stdout",
     "output_type": "stream",
     "text": [
      "0.989\n"
     ]
    }
   ],
   "source": [
    "# 经过了20个epoch，模型很快的达到了98.9%的准确率，如果更多点epoch或更深点的模型，达到100%也并非不可能\n",
    "print(test_acc)"
   ]
  },
  {
   "cell_type": "markdown",
   "metadata": {},
   "source": [
    "## 卷积网络是如何提取图片特征的？\n",
    "* CNN通过局部视野，提取局部特征<br>\n",
    "![title](images/extract_features.JPG)\n",
    "* CNN据具有平移不变性，是全连接网络不具备的，即当一个物体的位置或形状发送了变化，DNN可能就无法准确的检测出来。\n",
    "* CNN可以学习到空间层次的特征，可能在较浅的卷积层，学习到的是一些边缘线条，再之后更深的卷积层，学习到更多抽象的特征。\n",
    "![title](images/spatial_hierarchies.JPG)\n",
    "* 卷积是如何计算的，这个其实不难，可以看一下Andrew老师的CNN章节即可看懂。<br>"
   ]
  },
  {
   "cell_type": "code",
   "execution_count": 15,
   "metadata": {
    "collapsed": true
   },
   "outputs": [],
   "source": [
    "# 我们来查看模型中间的卷积层学习的特征\n",
    "import matplotlib.pyplot as plt\n",
    "from keras.models import Model"
   ]
  },
  {
   "cell_type": "code",
   "execution_count": 18,
   "metadata": {
    "collapsed": false
   },
   "outputs": [],
   "source": [
    "# 获取最后一个卷积层\n",
    "conv2d_2_model = Model(inputs=model.input, outputs=model.get_layer(\"conv2d_2\").output)"
   ]
  },
  {
   "cell_type": "code",
   "execution_count": 20,
   "metadata": {
    "collapsed": false
   },
   "outputs": [
    {
     "data": {
      "text/plain": [
       "(28, 28, 1)"
      ]
     },
     "execution_count": 20,
     "metadata": {},
     "output_type": "execute_result"
    }
   ],
   "source": [
    "x_train[0].shape"
   ]
  },
  {
   "cell_type": "code",
   "execution_count": 22,
   "metadata": {
    "collapsed": false
   },
   "outputs": [
    {
     "data": {
      "image/png": "[encoded data removed]",
      "text/plain": [
       "<matplotlib.figure.Figure at 0x13bc026fb38>"
      ]
     },
     "metadata": {},
     "output_type": "display_data"
    }
   ],
   "source": [
    "# 找一个样本\n",
    "plt.imshow(x_train[0].reshape(28, 28))\n",
    "plt.show()"
   ]
  },
  {
   "cell_type": "code",
   "execution_count": 23,
   "metadata": {
    "collapsed": true
   },
   "outputs": [],
   "source": [
    "pred_features = conv2d_2_model.predict(x_train[0].reshape(1, 28, 28, 1))"
   ]
  },
  {
   "cell_type": "code",
   "execution_count": 24,
   "metadata": {
    "collapsed": false
   },
   "outputs": [
    {
     "data": {
      "text/plain": [
       "(1, 11, 11, 64)"
      ]
     },
     "execution_count": 24,
     "metadata": {},
     "output_type": "execute_result"
    }
   ],
   "source": [
    "# 查看特征的shape, 是一个width=11, height=11, channel=64的feature map\n",
    "pred_features.shape"
   ]
  },
  {
   "cell_type": "code",
   "execution_count": 28,
   "metadata": {
    "collapsed": false
   },
   "outputs": [
    {
     "data": {
      "image/png": "[encoded data removed]",
      "text/plain": [
       "<matplotlib.figure.Figure at 0x13bc90a2da0>"
      ]
     },
     "metadata": {},
     "output_type": "display_data"
    }
   ],
   "source": [
    "# 查看前10个特征, 由图中可以看到，每一个feature map所学习的特征大概都不相同，符合了局部特征的提取，最后进行空间层次的组合\n",
    "for i in range(10):\n",
    "    plt.subplot(2, 5, i+1) \n",
    "    plt.imshow(pred_features[0][:,:,i])\n",
    "plt.show()"
   ]
  },
  {
   "cell_type": "markdown",
   "metadata": {},
   "source": [
    "## LeNet-5\n",
    "LeNet-5模型是Yann LeCun教授（卷积神经网络之父）在1998年提出的第一个成功应用在数字识别问题的卷积神经网络。<br>\n",
    "LeNet-5总共有7层网络，如下图：\n",
    "![title](images/LeNet-5.png)\n",
    "* conv1: kernel_size: 5*5, filters=6, strides=1\n",
    "* pool1: averagePooling, pool_size:2*2, strides=2\n",
    "* conv2: kernel_size: 5*5, filters=16, strides=1\n",
    "* pool2: averagePooling, pool_size=2*2, strides=2\n",
    "* dense1: units：120\n",
    "* dense2: units: 84\n",
    "* dense3: units: 10"
   ]
  },
  {
   "cell_type": "code",
   "execution_count": 30,
   "metadata": {
    "collapsed": true
   },
   "outputs": [],
   "source": [
    "# 下面我们使用keras构建一个LeNet模型\n",
    "from keras.models import Sequential\n",
    "from keras.layers import Dense, Conv2D, AveragePooling2D, Flatten"
   ]
  },
  {
   "cell_type": "code",
   "execution_count": 31,
   "metadata": {
    "collapsed": true
   },
   "outputs": [],
   "source": [
    "def LeNet():\n",
    "    '''\n",
    "    这个LeNet-5版本可能与LeCun教授的论文不那么一致，如activation等，但都是遵从了大概的结构模型\n",
    "    '''\n",
    "    LeNet_5 = Sequential()\n",
    "    LeNet_5.add(Conv2D(filters=6, kernel_size=(5, 5), activation='relu', strides=1, input_shape=(28, 28, 1)))\n",
    "    LeNet_5.add(AveragePooling2D(pool_size=(2, 2), strides=2))\n",
    "    LeNet_5.add(Conv2D(filters=16, kernel_size=(5, 5), activation='relu', strides=1))\n",
    "    LeNet_5.add(AveragePooling2D(pool_size=(2, 2), strides=2))\n",
    "    LeNet_5.add(Flatten())\n",
    "    LeNet_5.add(Dense(units=120, activation='relu'))\n",
    "    LeNet_5.add(Dense(units=84, activation='relu'))\n",
    "    LeNet_5.add(Dense(units=10, activation='softmax'))\n",
    "    \n",
    "    return LeNet_5"
   ]
  },
  {
   "cell_type": "code",
   "execution_count": 32,
   "metadata": {
    "collapsed": true
   },
   "outputs": [],
   "source": [
    "LeNet = LeNet()"
   ]
  },
  {
   "cell_type": "code",
   "execution_count": 33,
   "metadata": {
    "collapsed": false
   },
   "outputs": [
    {
     "name": "stdout",
     "output_type": "stream",
     "text": [
      "_________________________________________________________________\n",
      "Layer (type)                 Output Shape              Param #   \n",
      "=================================================================\n",
      "conv2d_3 (Conv2D)            (None, 24, 24, 6)         156       \n",
      "_________________________________________________________________\n",
      "average_pooling2d_1 (Average (None, 12, 12, 6)         0         \n",
      "_________________________________________________________________\n",
      "conv2d_4 (Conv2D)            (None, 8, 8, 16)          2416      \n",
      "_________________________________________________________________\n",
      "average_pooling2d_2 (Average (None, 4, 4, 16)          0         \n",
      "_________________________________________________________________\n",
      "flatten_2 (Flatten)          (None, 256)               0         \n",
      "_________________________________________________________________\n",
      "dense_3 (Dense)              (None, 120)               30840     \n",
      "_________________________________________________________________\n",
      "dense_4 (Dense)              (None, 84)                10164     \n",
      "_________________________________________________________________\n",
      "dense_5 (Dense)              (None, 10)                850       \n",
      "=================================================================\n",
      "Total params: 44,426\n",
      "Trainable params: 44,426\n",
      "Non-trainable params: 0\n",
      "_________________________________________________________________\n"
     ]
    }
   ],
   "source": [
    "LeNet.summary()"
   ]
  },
  {
   "cell_type": "code",
   "execution_count": 35,
   "metadata": {
    "collapsed": true
   },
   "outputs": [],
   "source": [
    "LeNet.compile(optimizer='rmsprop', loss='categorical_crossentropy', metrics=['accuracy'])"
   ]
  },
  {
   "cell_type": "code",
   "execution_count": 36,
   "metadata": {
    "collapsed": false
   },
   "outputs": [
    {
     "name": "stdout",
     "output_type": "stream",
     "text": [
      "Train on 45000 samples, validate on 15000 samples\n",
      "Epoch 1/10\n",
      "45000/45000 [==============================] - 6s 137us/step - loss: 0.4272 - acc: 0.8707 - val_loss: 0.1510 - val_acc: 0.9546\n",
      "Epoch 2/10\n",
      "45000/45000 [==============================] - 4s 79us/step - loss: 0.1232 - acc: 0.9629 - val_loss: 0.1272 - val_acc: 0.9583\n",
      "Epoch 3/10\n",
      "45000/45000 [==============================] - 4s 89us/step - loss: 0.0847 - acc: 0.9742 - val_loss: 0.0728 - val_acc: 0.9777\n",
      "Epoch 4/10\n",
      "45000/45000 [==============================] - 4s 80us/step - loss: 0.0658 - acc: 0.9801 - val_loss: 0.0658 - val_acc: 0.9794\n",
      "Epoch 5/10\n",
      "45000/45000 [==============================] - 4s 80us/step - loss: 0.0533 - acc: 0.9836 - val_loss: 0.0774 - val_acc: 0.9755\n",
      "Epoch 6/10\n",
      "45000/45000 [==============================] - 4s 90us/step - loss: 0.0459 - acc: 0.9861 - val_loss: 0.0580 - val_acc: 0.9829\n",
      "Epoch 7/10\n",
      "45000/45000 [==============================] - 4s 88us/step - loss: 0.0398 - acc: 0.9873 - val_loss: 0.0543 - val_acc: 0.9843\n",
      "Epoch 8/10\n",
      "45000/45000 [==============================] - 3s 75us/step - loss: 0.0350 - acc: 0.9890 - val_loss: 0.0786 - val_acc: 0.9759\n",
      "Epoch 9/10\n",
      "45000/45000 [==============================] - 4s 80us/step - loss: 0.0315 - acc: 0.9905 - val_loss: 0.0473 - val_acc: 0.9865\n",
      "Epoch 10/10\n",
      "45000/45000 [==============================] - 3s 77us/step - loss: 0.0278 - acc: 0.9914 - val_loss: 0.0465 - val_acc: 0.9872\n"
     ]
    },
    {
     "data": {
      "text/plain": [
       "<keras.callbacks.History at 0x13bcfca13c8>"
      ]
     },
     "execution_count": 36,
     "metadata": {},
     "output_type": "execute_result"
    }
   ],
   "source": [
    "# 训练\n",
    "LeNet.fit(x=x_train, y=y_train, validation_data=(x_val, y_val), batch_size=128, epochs=10)"
   ]
  },
  {
   "cell_type": "code",
   "execution_count": 37,
   "metadata": {
    "collapsed": false
   },
   "outputs": [
    {
     "name": "stdout",
     "output_type": "stream",
     "text": [
      "10000/10000 [==============================] - 1s 117us/step\n"
     ]
    }
   ],
   "source": [
    "test_loss, test_acc = LeNet.evaluate(x_test, y_test)"
   ]
  },
  {
   "cell_type": "code",
   "execution_count": 38,
   "metadata": {
    "collapsed": false
   },
   "outputs": [
    {
     "name": "stdout",
     "output_type": "stream",
     "text": [
      "0.9878\n"
     ]
    }
   ],
   "source": [
    "# 同样地，LeNet在10个epoch后在测试集上达到了98.78%的准确率，并且参数型对于上面的模型更少，且更深。\n",
    "print(test_acc)"
   ]
  },
  {
   "cell_type": "code",
   "execution_count": null,
   "metadata": {
    "collapsed": true
   },
   "outputs": [],
   "source": []
  }
 ],
 "metadata": {
  "anaconda-cloud": {},
  "kernelspec": {
   "display_name": "Python [conda root]",
   "language": "python",
   "name": "conda-root-py"
  },
  "language_info": {
   "codemirror_mode": {
    "name": "ipython",
    "version": 3
   },
   "file_extension": ".py",
   "mimetype": "text/x-python",
   "name": "python",
   "nbconvert_exporter": "python",
   "pygments_lexer": "ipython3",
   "version": "3.5.2"
  }
 },
 "nbformat": 4,
 "nbformat_minor": 2
}
